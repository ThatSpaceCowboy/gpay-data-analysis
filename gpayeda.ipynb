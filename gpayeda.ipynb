{
  "nbformat": 4,
  "nbformat_minor": 0,
  "metadata": {
    "colab": {
      "provenance": []
    },
    "kernelspec": {
      "name": "python3",
      "display_name": "Python 3"
    },
    "language_info": {
      "name": "python"
    }
  },
  "cells": [
    {
      "cell_type": "code",
      "execution_count": null,
      "metadata": {
        "id": "N4sDGBJopmhh"
      },
      "outputs": [],
      "source": [
        "import pandas as pd\n",
        "import numpy as np\n",
        "import matplotlib.pyplot as plt\n",
        "import seaborn as sns\n",
        "!pip3 install wordcloud -q\n",
        "from wordcloud import WordCloud"
      ]
    },
    {
      "cell_type": "code",
      "source": [
        "df = pd.read_csv('output.csv', delimiter='|')"
      ],
      "metadata": {
        "id": "h3a4_VDVpu0b"
      },
      "execution_count": null,
      "outputs": []
    },
    {
      "cell_type": "code",
      "source": [
        "df.head()"
      ],
      "metadata": {
        "id": "AJzKA_mBqAsm"
      },
      "execution_count": null,
      "outputs": []
    },
    {
      "cell_type": "code",
      "source": [
        "df.dtypes"
      ],
      "metadata": {
        "id": "3rwvpFJTqJ2E"
      },
      "execution_count": null,
      "outputs": []
    },
    {
      "cell_type": "code",
      "source": [
        "for col in df:\n",
        "    print(col+\": \"+str(df[col].nunique()))"
      ],
      "metadata": {
        "id": "CJbI6xqUq7MR"
      },
      "execution_count": null,
      "outputs": []
    },
    {
      "cell_type": "code",
      "source": [
        "#Setting up data types\n",
        "df['Activity'] = df['Activity'].astype('category')\n",
        "df['Amount'] = pd.to_numeric(df['Amount'], errors='coerce')\n",
        "df['Recipient'] = df['Recipient'].astype('category')\n",
        "df['Account'] = df['Account'].astype('category')\n",
        "df['Date'] = pd.to_datetime(df['Date'], format='%Y-%m-%d')\n",
        "df['Time'] = pd.to_datetime(df['Time'], format='%H:%M:%S').dt.time\n",
        "df['Status'] = df['Status'].astype('category')"
      ],
      "metadata": {
        "id": "a3Sc8O-_qaRM"
      },
      "execution_count": null,
      "outputs": []
    },
    {
      "cell_type": "code",
      "source": [
        "# Remove non-completed transactions and 'Used' activity\n",
        "df = df[(df['Status'] == 'Completed') & (df['Activity'] != 'Used')]\n",
        "\n",
        "# Create a new column for the transaction amount\n",
        "df['TransactionAmount'] = np.where(df['Activity'].isin(['Paid', 'Sent']), -df['Amount'], df['Amount'])\n",
        "\n",
        "# Combine Date and Time columns\n",
        "df['DateTime'] = pd.to_datetime(df['Date'].astype(str) + ' ' + df['Time'].astype(str))"
      ],
      "metadata": {
        "id": "xaddPtOcs9Tw"
      },
      "execution_count": null,
      "outputs": []
    },
    {
      "cell_type": "markdown",
      "source": [
        "### Top Payee"
      ],
      "metadata": {
        "id": "ekkC71JBKqHH"
      }
    },
    {
      "cell_type": "code",
      "source": [
        "# Top payee (sent money to)\n",
        "top_payee = df[df['TransactionAmount'] < 0].groupby('Recipient')['TransactionAmount'].sum().nsmallest(1)\n",
        "top_payee_name = top_payee.index[0]\n",
        "top_payee_amount = abs(top_payee.values[0])  # Taking absolute value for easier reading\n",
        "\n",
        "print(f\"\\nTop Payee: {top_payee_name}\")\n",
        "print(f\"Total amount paid: {top_payee_amount:.2f}\")"
      ],
      "metadata": {
        "id": "9V2I85j9tewF"
      },
      "execution_count": null,
      "outputs": []
    },
    {
      "cell_type": "markdown",
      "source": [
        "### Month-wise spending"
      ],
      "metadata": {
        "id": "o6NfgkzJLDQ-"
      }
    },
    {
      "cell_type": "code",
      "source": [
        "# Set the date as the index\n",
        "df_dated = df.set_index('DateTime')\n",
        "\n",
        "# Month-wise spending\n",
        "monthly_spending = df_dated[df_dated['TransactionAmount'] < 0].resample('M')['TransactionAmount'].sum().abs()\n",
        "\n",
        "plt.figure(figsize=(12, 6))\n",
        "sns.lineplot(data=monthly_spending)\n",
        "plt.title('Monthly Spending Over Time')\n",
        "plt.xlabel('Date')\n",
        "plt.ylabel('Total Spending')\n",
        "plt.xticks(rotation=45)\n",
        "plt.show()"
      ],
      "metadata": {
        "id": "KGZBIUC_i8fW"
      },
      "execution_count": null,
      "outputs": []
    },
    {
      "cell_type": "markdown",
      "source": [
        "### Weekly Day Wise Spending"
      ],
      "metadata": {
        "id": "Q_kmHEgMLTX-"
      }
    },
    {
      "cell_type": "code",
      "source": [
        "# Create a new column for the day of the week\n",
        "df['DayOfWeek'] = df['DateTime'].dt.day_name()\n",
        "\n",
        "# Calculate daily spending\n",
        "daily_spending = df[df['TransactionAmount'] < 0].groupby('DayOfWeek')['TransactionAmount'].sum().abs()\n",
        "\n",
        "# Define the order of days\n",
        "days_order = ['Monday', 'Tuesday', 'Wednesday', 'Thursday', 'Friday', 'Saturday', 'Sunday']\n",
        "\n",
        "# Reorder the daily spending data\n",
        "daily_spending = daily_spending.reindex(days_order)\n",
        "\n",
        "plt.figure(figsize=(10, 6))\n",
        "sns.barplot(x=daily_spending.index, y=daily_spending.values, order=days_order)\n",
        "plt.title('Total Spending by Day of Week')\n",
        "plt.xlabel('Day of Week')\n",
        "plt.ylabel('Total Spending')\n",
        "plt.xticks(rotation=45)\n",
        "plt.show()"
      ],
      "metadata": {
        "id": "RoKB6930ttYc"
      },
      "execution_count": null,
      "outputs": []
    },
    {
      "cell_type": "markdown",
      "source": [
        "### Frequency of transaction to a particular person"
      ],
      "metadata": {
        "id": "yiYtkdjOLoYy"
      }
    },
    {
      "cell_type": "code",
      "source": [
        "def plot_transaction_frequency(df, recipient):\n",
        "    recipient_transactions = df[df['Recipient'] == recipient]\n",
        "\n",
        "    plt.figure(figsize=(12, 6))\n",
        "    sns.histplot(recipient_transactions['DateTime'], bins=30, kde=True)\n",
        "    plt.title(f'Transaction Frequency for {recipient}')\n",
        "    plt.xlabel('Date')\n",
        "    plt.ylabel('Number of Transactions')\n",
        "    plt.xticks(rotation=45)\n",
        "    plt.show()\n",
        "\n",
        "# Example: Plot for the top payee\n",
        "top_payee = top_payees.index[2]\n",
        "plot_transaction_frequency(df, top_payee)"
      ],
      "metadata": {
        "id": "5OhRQbSZty2G"
      },
      "execution_count": null,
      "outputs": []
    },
    {
      "cell_type": "markdown",
      "source": [
        "### Distribution of Transaction amounts"
      ],
      "metadata": {
        "id": "bUCID_FuMyNX"
      }
    },
    {
      "cell_type": "code",
      "source": [
        "plt.figure(figsize=(12, 6))\n",
        "sns.histplot(df['TransactionAmount'], bins=50, kde=True)\n",
        "plt.title('Distribution of Transaction Amounts')\n",
        "plt.xlabel('Transaction Amount')\n",
        "plt.ylabel('Frequency')\n",
        "plt.show()"
      ],
      "metadata": {
        "id": "6QwXjX3ft328"
      },
      "execution_count": null,
      "outputs": []
    },
    {
      "cell_type": "markdown",
      "source": [
        "### Heatmap of Transactions by Day and Hour"
      ],
      "metadata": {
        "id": "qg8Ad3afM7d1"
      }
    },
    {
      "cell_type": "code",
      "source": [
        "# 6. Heatmap of transactions by day and hour\n",
        "\n",
        "df['Hour'] = df['DateTime'].dt.hour\n",
        "df['Day'] = df['DateTime'].dt.day_name()\n",
        "\n",
        "# Define the order of days\n",
        "days_order = ['Monday', 'Tuesday', 'Wednesday', 'Thursday', 'Friday', 'Saturday', 'Sunday']\n",
        "\n",
        "heatmap_data = df.pivot_table(values='TransactionAmount', index='Hour', columns='Day', aggfunc='count')\n",
        "\n",
        "# Reorder the columns based on days_order\n",
        "heatmap_data = heatmap_data.reindex(columns=days_order)\n",
        "\n",
        "plt.figure(figsize=(12, 8))\n",
        "sns.heatmap(heatmap_data, cmap='YlOrRd', annot=True, fmt='.0f')\n",
        "plt.title('Transaction Heatmap by Day and Hour')\n",
        "plt.xlabel('Day of Week')\n",
        "plt.ylabel('Hour of Day')\n",
        "plt.show()"
      ],
      "metadata": {
        "id": "wvD8I_jSM_Dg"
      },
      "execution_count": null,
      "outputs": []
    }
  ]
}