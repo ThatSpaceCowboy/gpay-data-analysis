{
 "cells": [
  {
   "cell_type": "code",
   "execution_count": null,
   "metadata": {
    "id": "N4sDGBJopmhh"
   },
   "outputs": [],
   "source": [
    "import pandas as pd\n",
    "import numpy as np\n",
    "import matplotlib.pyplot as plt\n",
    "!pip3 install wordcloud -q\n",
    "from wordcloud import WordCloud"
   ]
  },
  {
   "cell_type": "code",
   "execution_count": null,
   "metadata": {
    "id": "h3a4_VDVpu0b"
   },
   "outputs": [],
   "source": [
    "df = pd.read_csv('output.csv', delimiter='|')"
   ]
  },
  {
   "cell_type": "code",
   "execution_count": null,
   "metadata": {
    "id": "AJzKA_mBqAsm"
   },
   "outputs": [],
   "source": [
    "df.head()"
   ]
  },
  {
   "cell_type": "code",
   "execution_count": null,
   "metadata": {
    "id": "3rwvpFJTqJ2E"
   },
   "outputs": [],
   "source": [
    "df.dtypes"
   ]
  },
  {
   "cell_type": "code",
   "execution_count": null,
   "metadata": {
    "id": "CJbI6xqUq7MR"
   },
   "outputs": [],
   "source": [
    "for col in df:\n",
    "    print(df[col].nunique())"
   ]
  },
  {
   "cell_type": "code",
   "execution_count": null,
   "metadata": {
    "id": "a3Sc8O-_qaRM"
   },
   "outputs": [],
   "source": [
    "#Setting up data types\n",
    "df['Activity'] = df['Activity'].astype('category')\n",
    "df['Amount'] = pd.to_numeric(df['Amount'], errors='coerce')\n",
    "df['Recipient'] = df['Recipient'].astype('category')\n",
    "df['Account'] = df['Account'].astype('category')\n",
    "df['Date'] = pd.to_datetime(df['Date'], format='%Y-%m-%d')\n",
    "df['Time'] = pd.to_datetime(df['Time'], format='%H:%M:%S').dt.time\n",
    "df['Status'] = df['Status'].astype('category')"
   ]
  },
  {
   "cell_type": "code",
   "execution_count": null,
   "metadata": {
    "id": "xaddPtOcs9Tw"
   },
   "outputs": [],
   "source": [
    "total_spent = df[df['Activity'] == 'Paid']['Amount'].sum()"
   ]
  },
  {
   "cell_type": "code",
   "execution_count": null,
   "metadata": {
    "id": "9V2I85j9tewF"
   },
   "outputs": [],
   "source": [
    "total_received = df[df['Activity'] == 'Received']['Amount'].sum()"
   ]
  },
  {
   "cell_type": "code",
   "execution_count": null,
   "metadata": {
    "id": "KGZBIUC_i8fW"
   },
   "outputs": [],
   "source": [
    "print(\"Net Spendings: \",(total_spent-total_received))"
   ]
  },
  {
   "cell_type": "code",
   "execution_count": null,
   "metadata": {
    "id": "RoKB6930ttYc"
   },
   "outputs": [],
   "source": [
    "transactions_by_activity = df['Activity'].value_counts()"
   ]
  },
  {
   "cell_type": "code",
   "execution_count": null,
   "metadata": {
    "id": "5OhRQbSZty2G"
   },
   "outputs": [],
   "source": [
    "filtered_df = df[(df['Activity'] == 'Paid') & (df['Amount'] > 100)]\n",
    "grouped_df = filtered_df.groupby('Recipient')['Amount'].sum()\n",
    "top_recipients = grouped_df[grouped_df > 100].sort_values(ascending=False)"
   ]
  },
  {
   "cell_type": "code",
   "execution_count": null,
   "metadata": {
    "id": "6QwXjX3ft328"
   },
   "outputs": [],
   "source": [
    "print(f\"Total amount spent: {total_spent}\")"
   ]
  },
  {
   "cell_type": "code",
   "execution_count": null,
   "metadata": {
    "id": "7e7BWCGHuFox"
   },
   "outputs": [],
   "source": [
    "print(f\"Total amount received: {total_received}\")"
   ]
  },
  {
   "cell_type": "code",
   "execution_count": null,
   "metadata": {
    "id": "_Nd8bo_euKXI"
   },
   "outputs": [],
   "source": [
    "print(f\"Transactions by activity:\\n{transactions_by_activity}\")"
   ]
  },
  {
   "cell_type": "code",
   "execution_count": null,
   "metadata": {
    "id": "YsfOl6LPuLfQ"
   },
   "outputs": [],
   "source": [
    "print(f\"Top 5 recipients by amount paid:\\n{top_recipients.head()}\")"
   ]
  },
  {
   "cell_type": "code",
   "execution_count": null,
   "metadata": {
    "id": "sGN_X-mIuM7q"
   },
   "outputs": [],
   "source": [
    "# Pie chart of transactions by activity type\n",
    "plt.figure(figsize=(8, 6))\n",
    "transactions_by_activity.plot(kind='pie', autopct='%1.1f%%', startangle=90)\n",
    "plt.title('Transactions by Activity Type')\n",
    "plt.ylabel('')\n",
    "plt.show()"
   ]
  },
  {
   "cell_type": "code",
   "execution_count": null,
   "metadata": {
    "id": "AT8X7xx2uPlE"
   },
   "outputs": [],
   "source": [
    "# Bar chart of top recipients by amount paid\n",
    "plt.figure(figsize=(10, 6))\n",
    "top_recipients.plot(kind='bar')\n",
    "plt.title('Top Recipients by Amount Paid')\n",
    "plt.xlabel('Recipient')\n",
    "plt.ylabel('Total Amount Paid')\n",
    "plt.show()"
   ]
  },
  {
   "cell_type": "code",
   "execution_count": null,
   "metadata": {
    "id": "kLuEujH-uRB3"
   },
   "outputs": [],
   "source": [
    "filtered_df = df[df['Activity'] == 'Paid']\n",
    "\n",
    "# Group by 'Recipient' and sum the 'Amount'\n",
    "grouped_df = filtered_df.groupby('Recipient')['Amount'].sum()\n",
    "\n",
    "# Convert the grouped data to a dictionary\n",
    "recipient_amount_dict = grouped_df.to_dict()\n",
    "\n",
    "# Create a word cloud\n",
    "wordcloud = WordCloud(width=800, height=400, background_color='white').generate_from_frequencies(top_recipients)\n",
    "\n",
    "# Plotting the word cloud\n",
    "plt.figure(figsize=(10, 5))\n",
    "plt.imshow(wordcloud, interpolation='bilinear')\n",
    "plt.axis('off')\n",
    "plt.title('Word Cloud of Recipients Based on Amount Paid')\n",
    "plt.show()"
   ]
  }
 ],
 "metadata": {
  "colab": {
   "provenance": []
  },
  "kernelspec": {
   "display_name": "Python 3",
   "name": "python3"
  },
  "language_info": {
   "name": "python"
  }
 },
 "nbformat": 4,
 "nbformat_minor": 0
}
